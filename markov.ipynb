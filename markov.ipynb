{
 "cells": [
  {
   "cell_type": "code",
   "execution_count": null,
   "id": "27f95156",
   "metadata": {
    "vscode": {
     "languageId": "plaintext"
    }
   },
   "outputs": [],
   "source": [
    "\n",
    "import pandas as pd\n",
    "import numpy as np\n",
    "\n",
    "\n",
    "web_data = pd.read_csv('data.csv')\n",
    "states = sorted(set((set(web_data['source']).union(set(web_data['destination'])))))\n",
    "n_states = len(states)\n",
    "\n",
    "def makeFreqDict(myDataList):\n",
    "    '''Make a frequency mapping out of a list of data.\n",
    "    Param myDataList, a list of data.\n",
    "    Return a dictionary mapping each unique data value to its frequency count.\n",
    "    '''\n",
    "    freqDict = {} # start with an empty dictionary\n",
    "    for res in myDataList:\n",
    "        if res in freqDict:\n",
    "            freqDict[res] = freqDict[res] + 1 # add 1 to the count using sage integers\n",
    "        else: # the data value does not exist as a key value\n",
    "            freqDict[res] = 1\n",
    "    return freqDict # return the dictionary created\n",
    "transitions = list(zip(web_data['source'], web_data['destination']))\n",
    "transition_counts = makeFreqDict(transitions)\n",
    "\n",
    "transition_matrix = np.zeros((n_states, n_states))\n",
    "\n",
    "\n",
    "for i in range(n_states):\n",
    "    for j in range(n_states):\n",
    "        if (i,j) in transition_counts:\n",
    "            transition_matrix[i, j] = transition_counts[(i,j)] / sum(transition_counts.values())\n",
    "        else:\n",
    "            transition_matrix[i, j] = 0\n",
    "\n",
    "for i in range(n_states):\n",
    "    sum_i = np.sum(transition_matrix[i,:])\n",
    "    transition_matrix[i,:] = transition_matrix[i,:]/sum_i\n",
    "\n",
    "problem2_transition_matrix = transition_matrix \n",
    "problem2_n_states = n_states\n"
   ]
  },
  {
   "cell_type": "code",
   "execution_count": null,
   "id": "00902bce",
   "metadata": {
    "vscode": {
     "languageId": "plaintext"
    }
   },
   "outputs": [],
   "source": [
    "# TODO: 更新目标位置文件"
   ]
  }
 ],
 "metadata": {
  "language_info": {
   "name": "python"
  }
 },
 "nbformat": 4,
 "nbformat_minor": 5
}
